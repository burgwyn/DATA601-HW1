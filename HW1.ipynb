{
 "cells": [
  {
   "cell_type": "markdown",
   "metadata": {},
   "source": [
    "# Reviewing 311 Requests in Washington, DC for 2019\n",
    "\n",
    "## Load Data"
   ]
  },
  {
   "cell_type": "code",
   "execution_count": 192,
   "metadata": {},
   "outputs": [],
   "source": [
    "# import libraries\n",
    "import pandas as pd\n",
    "\n",
    "# load data set - this is a large file\n",
    "# setting low_memory to false\n",
    "data_set = pd.read_csv('./data/311_City_Service_Requests_in_2019.csv', low_memory=False)"
   ]
  },
  {
   "cell_type": "markdown",
   "metadata": {},
   "source": [
    "## Data Exploration"
   ]
  },
  {
   "cell_type": "code",
   "execution_count": 193,
   "metadata": {
    "pycharm": {
     "name": "#%%\n"
    }
   },
   "outputs": [
    {
     "data": {
      "text/html": [
       "<div>\n",
       "<style scoped>\n",
       "    .dataframe tbody tr th:only-of-type {\n",
       "        vertical-align: middle;\n",
       "    }\n",
       "\n",
       "    .dataframe tbody tr th {\n",
       "        vertical-align: top;\n",
       "    }\n",
       "\n",
       "    .dataframe thead th {\n",
       "        text-align: right;\n",
       "    }\n",
       "</style>\n",
       "<table border=\"1\" class=\"dataframe\">\n",
       "  <thead>\n",
       "    <tr style=\"text-align: right;\">\n",
       "      <th></th>\n",
       "      <th>X</th>\n",
       "      <th>Y</th>\n",
       "      <th>OBJECTID</th>\n",
       "      <th>SERVICECODE</th>\n",
       "      <th>SERVICECODEDESCRIPTION</th>\n",
       "      <th>SERVICETYPECODEDESCRIPTION</th>\n",
       "      <th>ORGANIZATIONACRONYM</th>\n",
       "      <th>SERVICECALLCOUNT</th>\n",
       "      <th>ADDDATE</th>\n",
       "      <th>RESOLUTIONDATE</th>\n",
       "      <th>...</th>\n",
       "      <th>XCOORD</th>\n",
       "      <th>YCOORD</th>\n",
       "      <th>LATITUDE</th>\n",
       "      <th>LONGITUDE</th>\n",
       "      <th>CITY</th>\n",
       "      <th>STATE</th>\n",
       "      <th>ZIPCODE</th>\n",
       "      <th>MARADDRESSREPOSITORYID</th>\n",
       "      <th>WARD</th>\n",
       "      <th>DETAILS</th>\n",
       "    </tr>\n",
       "  </thead>\n",
       "  <tbody>\n",
       "    <tr>\n",
       "      <th>0</th>\n",
       "      <td>-76.930018</td>\n",
       "      <td>38.904475</td>\n",
       "      <td>278741</td>\n",
       "      <td>S0031</td>\n",
       "      <td>Bulk Collection</td>\n",
       "      <td>SWMA- Solid Waste Management Admistration</td>\n",
       "      <td>DPW</td>\n",
       "      <td>1</td>\n",
       "      <td>2019/07/17 20:57:15+00</td>\n",
       "      <td>2019/08/05 15:42:09+00</td>\n",
       "      <td>...</td>\n",
       "      <td>406070.32</td>\n",
       "      <td>137403.48</td>\n",
       "      <td>38.904467</td>\n",
       "      <td>-76.930016</td>\n",
       "      <td>WASHINGTON</td>\n",
       "      <td>DC</td>\n",
       "      <td>20019.0</td>\n",
       "      <td>15976.0</td>\n",
       "      <td>7.0</td>\n",
       "      <td>NaN</td>\n",
       "    </tr>\n",
       "    <tr>\n",
       "      <th>1</th>\n",
       "      <td>-77.034081</td>\n",
       "      <td>38.941341</td>\n",
       "      <td>278742</td>\n",
       "      <td>S05SL</td>\n",
       "      <td>Streetlight Repair Investigation</td>\n",
       "      <td>Transportation Operations Administration</td>\n",
       "      <td>DDOT</td>\n",
       "      <td>1</td>\n",
       "      <td>2019/07/17 21:00:00+00</td>\n",
       "      <td>2019/07/20 23:03:10+00</td>\n",
       "      <td>...</td>\n",
       "      <td>397045.59</td>\n",
       "      <td>141494.19</td>\n",
       "      <td>38.941334</td>\n",
       "      <td>-77.034079</td>\n",
       "      <td>WASHINGTON</td>\n",
       "      <td>DC</td>\n",
       "      <td>20011.0</td>\n",
       "      <td>259155.0</td>\n",
       "      <td>4.0</td>\n",
       "      <td>NaN</td>\n",
       "    </tr>\n",
       "    <tr>\n",
       "      <th>2</th>\n",
       "      <td>-77.034326</td>\n",
       "      <td>38.915358</td>\n",
       "      <td>278743</td>\n",
       "      <td>S05SL</td>\n",
       "      <td>Streetlight Repair Investigation</td>\n",
       "      <td>Transportation Operations Administration</td>\n",
       "      <td>DDOT</td>\n",
       "      <td>1</td>\n",
       "      <td>2019/07/17 21:58:52+00</td>\n",
       "      <td>2019/07/19 03:23:15+00</td>\n",
       "      <td>...</td>\n",
       "      <td>397023.24</td>\n",
       "      <td>138609.83</td>\n",
       "      <td>38.915350</td>\n",
       "      <td>-77.034324</td>\n",
       "      <td>WASHINGTON</td>\n",
       "      <td>DC</td>\n",
       "      <td>20009.0</td>\n",
       "      <td>240017.0</td>\n",
       "      <td>2.0</td>\n",
       "      <td>NaN</td>\n",
       "    </tr>\n",
       "    <tr>\n",
       "      <th>3</th>\n",
       "      <td>-76.942364</td>\n",
       "      <td>38.898615</td>\n",
       "      <td>278744</td>\n",
       "      <td>S0336</td>\n",
       "      <td>Out of State Parking Violation (ROSA)</td>\n",
       "      <td>PEMA- Parking Enforcement Management Administr...</td>\n",
       "      <td>DPW</td>\n",
       "      <td>1</td>\n",
       "      <td>2019/07/17 21:59:10+00</td>\n",
       "      <td>2019/07/18 02:39:36+00</td>\n",
       "      <td>...</td>\n",
       "      <td>404999.88</td>\n",
       "      <td>136752.30</td>\n",
       "      <td>38.898608</td>\n",
       "      <td>-76.942362</td>\n",
       "      <td>WASHINGTON</td>\n",
       "      <td>DC</td>\n",
       "      <td>20019.0</td>\n",
       "      <td>25746.0</td>\n",
       "      <td>7.0</td>\n",
       "      <td>NaN</td>\n",
       "    </tr>\n",
       "    <tr>\n",
       "      <th>4</th>\n",
       "      <td>-76.978173</td>\n",
       "      <td>38.888846</td>\n",
       "      <td>278745</td>\n",
       "      <td>S0316</td>\n",
       "      <td>Recycling Cart Delivery</td>\n",
       "      <td>SWMA- Solid Waste Management Admistration</td>\n",
       "      <td>DPW</td>\n",
       "      <td>1</td>\n",
       "      <td>2019/07/17 21:01:44+00</td>\n",
       "      <td>2019/08/19 07:09:05+00</td>\n",
       "      <td>...</td>\n",
       "      <td>401893.88</td>\n",
       "      <td>135666.52</td>\n",
       "      <td>38.888839</td>\n",
       "      <td>-76.978170</td>\n",
       "      <td>WASHINGTON</td>\n",
       "      <td>DC</td>\n",
       "      <td>20003.0</td>\n",
       "      <td>55558.0</td>\n",
       "      <td>6.0</td>\n",
       "      <td>NaN</td>\n",
       "    </tr>\n",
       "  </tbody>\n",
       "</table>\n",
       "<p>5 rows × 30 columns</p>\n",
       "</div>"
      ],
      "text/plain": [
       "           X          Y  OBJECTID SERVICECODE  \\\n",
       "0 -76.930018  38.904475    278741       S0031   \n",
       "1 -77.034081  38.941341    278742       S05SL   \n",
       "2 -77.034326  38.915358    278743       S05SL   \n",
       "3 -76.942364  38.898615    278744       S0336   \n",
       "4 -76.978173  38.888846    278745       S0316   \n",
       "\n",
       "                  SERVICECODEDESCRIPTION  \\\n",
       "0                        Bulk Collection   \n",
       "1       Streetlight Repair Investigation   \n",
       "2       Streetlight Repair Investigation   \n",
       "3  Out of State Parking Violation (ROSA)   \n",
       "4                Recycling Cart Delivery   \n",
       "\n",
       "                          SERVICETYPECODEDESCRIPTION ORGANIZATIONACRONYM  \\\n",
       "0          SWMA- Solid Waste Management Admistration                 DPW   \n",
       "1           Transportation Operations Administration                DDOT   \n",
       "2           Transportation Operations Administration                DDOT   \n",
       "3  PEMA- Parking Enforcement Management Administr...                 DPW   \n",
       "4          SWMA- Solid Waste Management Admistration                 DPW   \n",
       "\n",
       "   SERVICECALLCOUNT                 ADDDATE          RESOLUTIONDATE  ...  \\\n",
       "0                 1  2019/07/17 20:57:15+00  2019/08/05 15:42:09+00  ...   \n",
       "1                 1  2019/07/17 21:00:00+00  2019/07/20 23:03:10+00  ...   \n",
       "2                 1  2019/07/17 21:58:52+00  2019/07/19 03:23:15+00  ...   \n",
       "3                 1  2019/07/17 21:59:10+00  2019/07/18 02:39:36+00  ...   \n",
       "4                 1  2019/07/17 21:01:44+00  2019/08/19 07:09:05+00  ...   \n",
       "\n",
       "      XCOORD     YCOORD   LATITUDE  LONGITUDE        CITY STATE  ZIPCODE  \\\n",
       "0  406070.32  137403.48  38.904467 -76.930016  WASHINGTON    DC  20019.0   \n",
       "1  397045.59  141494.19  38.941334 -77.034079  WASHINGTON    DC  20011.0   \n",
       "2  397023.24  138609.83  38.915350 -77.034324  WASHINGTON    DC  20009.0   \n",
       "3  404999.88  136752.30  38.898608 -76.942362  WASHINGTON    DC  20019.0   \n",
       "4  401893.88  135666.52  38.888839 -76.978170  WASHINGTON    DC  20003.0   \n",
       "\n",
       "  MARADDRESSREPOSITORYID WARD DETAILS  \n",
       "0                15976.0  7.0     NaN  \n",
       "1               259155.0  4.0     NaN  \n",
       "2               240017.0  2.0     NaN  \n",
       "3                25746.0  7.0     NaN  \n",
       "4                55558.0  6.0     NaN  \n",
       "\n",
       "[5 rows x 30 columns]"
      ]
     },
     "execution_count": 193,
     "metadata": {},
     "output_type": "execute_result"
    }
   ],
   "source": [
    "# display first 5 rows\n",
    "data_set.head(5)"
   ]
  },
  {
   "cell_type": "code",
   "execution_count": 194,
   "metadata": {
    "pycharm": {
     "name": "#%%\n"
    }
   },
   "outputs": [
    {
     "data": {
      "text/html": [
       "<div>\n",
       "<style scoped>\n",
       "    .dataframe tbody tr th:only-of-type {\n",
       "        vertical-align: middle;\n",
       "    }\n",
       "\n",
       "    .dataframe tbody tr th {\n",
       "        vertical-align: top;\n",
       "    }\n",
       "\n",
       "    .dataframe thead th {\n",
       "        text-align: right;\n",
       "    }\n",
       "</style>\n",
       "<table border=\"1\" class=\"dataframe\">\n",
       "  <thead>\n",
       "    <tr style=\"text-align: right;\">\n",
       "      <th></th>\n",
       "      <th>X</th>\n",
       "      <th>Y</th>\n",
       "      <th>OBJECTID</th>\n",
       "      <th>SERVICECODE</th>\n",
       "      <th>SERVICECODEDESCRIPTION</th>\n",
       "      <th>SERVICETYPECODEDESCRIPTION</th>\n",
       "      <th>ORGANIZATIONACRONYM</th>\n",
       "      <th>SERVICECALLCOUNT</th>\n",
       "      <th>ADDDATE</th>\n",
       "      <th>RESOLUTIONDATE</th>\n",
       "      <th>...</th>\n",
       "      <th>XCOORD</th>\n",
       "      <th>YCOORD</th>\n",
       "      <th>LATITUDE</th>\n",
       "      <th>LONGITUDE</th>\n",
       "      <th>CITY</th>\n",
       "      <th>STATE</th>\n",
       "      <th>ZIPCODE</th>\n",
       "      <th>MARADDRESSREPOSITORYID</th>\n",
       "      <th>WARD</th>\n",
       "      <th>DETAILS</th>\n",
       "    </tr>\n",
       "  </thead>\n",
       "  <tbody>\n",
       "    <tr>\n",
       "      <th>365000</th>\n",
       "      <td>-76.960720</td>\n",
       "      <td>38.884641</td>\n",
       "      <td>722246</td>\n",
       "      <td>S0000</td>\n",
       "      <td>Abandoned Vehicle - On Public Property</td>\n",
       "      <td>PEMA- Parking Enforcement Management Administr...</td>\n",
       "      <td>DPW</td>\n",
       "      <td>1</td>\n",
       "      <td>2019/10/07 10:31:32+00</td>\n",
       "      <td>2020/02/11 10:00:37+00</td>\n",
       "      <td>...</td>\n",
       "      <td>403408.220000</td>\n",
       "      <td>135200.170000</td>\n",
       "      <td>38.884633</td>\n",
       "      <td>-76.960718</td>\n",
       "      <td>WASHINGTON</td>\n",
       "      <td>DC</td>\n",
       "      <td>20019.0</td>\n",
       "      <td>38362.0</td>\n",
       "      <td>7.0</td>\n",
       "      <td>NaN</td>\n",
       "    </tr>\n",
       "    <tr>\n",
       "      <th>365001</th>\n",
       "      <td>-76.999537</td>\n",
       "      <td>38.830089</td>\n",
       "      <td>722247</td>\n",
       "      <td>S0000</td>\n",
       "      <td>Abandoned Vehicle - On Public Property</td>\n",
       "      <td>PEMA- Parking Enforcement Management Administr...</td>\n",
       "      <td>DPW</td>\n",
       "      <td>1</td>\n",
       "      <td>2019/12/05 14:19:02+00</td>\n",
       "      <td>2020/02/22 08:02:54+00</td>\n",
       "      <td>...</td>\n",
       "      <td>400040.437598</td>\n",
       "      <td>129143.771737</td>\n",
       "      <td>38.830081</td>\n",
       "      <td>-76.999534</td>\n",
       "      <td>WASHINGTON</td>\n",
       "      <td>DC</td>\n",
       "      <td>20032.0</td>\n",
       "      <td>801497.0</td>\n",
       "      <td>8.0</td>\n",
       "      <td>NaN</td>\n",
       "    </tr>\n",
       "    <tr>\n",
       "      <th>365002</th>\n",
       "      <td>-77.009367</td>\n",
       "      <td>38.831333</td>\n",
       "      <td>722248</td>\n",
       "      <td>S0000</td>\n",
       "      <td>Abandoned Vehicle - On Public Property</td>\n",
       "      <td>PEMA- Parking Enforcement Management Administr...</td>\n",
       "      <td>DPW</td>\n",
       "      <td>1</td>\n",
       "      <td>2019/10/02 11:15:10+00</td>\n",
       "      <td>2020/02/22 15:37:55+00</td>\n",
       "      <td>...</td>\n",
       "      <td>399186.870000</td>\n",
       "      <td>129281.970000</td>\n",
       "      <td>38.831326</td>\n",
       "      <td>-77.009365</td>\n",
       "      <td>WASHINGTON</td>\n",
       "      <td>DC</td>\n",
       "      <td>20032.0</td>\n",
       "      <td>302935.0</td>\n",
       "      <td>8.0</td>\n",
       "      <td>NaN</td>\n",
       "    </tr>\n",
       "    <tr>\n",
       "      <th>365003</th>\n",
       "      <td>-77.027120</td>\n",
       "      <td>38.971481</td>\n",
       "      <td>722561</td>\n",
       "      <td>GRAFF</td>\n",
       "      <td>Graffiti Removal</td>\n",
       "      <td>SWMA- Solid Waste Management Admistration</td>\n",
       "      <td>DPW</td>\n",
       "      <td>1</td>\n",
       "      <td>2019/11/05 09:19:04+00</td>\n",
       "      <td>2020/02/28 13:32:05+00</td>\n",
       "      <td>...</td>\n",
       "      <td>397650.059996</td>\n",
       "      <td>144839.787022</td>\n",
       "      <td>38.971473</td>\n",
       "      <td>-77.027118</td>\n",
       "      <td>WASHINGTON</td>\n",
       "      <td>DC</td>\n",
       "      <td>20012.0</td>\n",
       "      <td>900304.0</td>\n",
       "      <td>4.0</td>\n",
       "      <td>NaN</td>\n",
       "    </tr>\n",
       "    <tr>\n",
       "      <th>365004</th>\n",
       "      <td>-77.004162</td>\n",
       "      <td>38.905885</td>\n",
       "      <td>722562</td>\n",
       "      <td>S0216</td>\n",
       "      <td>Public Space Litter Can- Installation/Removal/...</td>\n",
       "      <td>SWMA- Solid Waste Management Admistration</td>\n",
       "      <td>DPW</td>\n",
       "      <td>1</td>\n",
       "      <td>2019/08/08 11:01:11+00</td>\n",
       "      <td>2020/07/09 12:58:55+00</td>\n",
       "      <td>...</td>\n",
       "      <td>399639.210000</td>\n",
       "      <td>137557.690000</td>\n",
       "      <td>38.905877</td>\n",
       "      <td>-77.004160</td>\n",
       "      <td>WASHINGTON</td>\n",
       "      <td>DC</td>\n",
       "      <td>20002.0</td>\n",
       "      <td>303699.0</td>\n",
       "      <td>6.0</td>\n",
       "      <td>NaN</td>\n",
       "    </tr>\n",
       "  </tbody>\n",
       "</table>\n",
       "<p>5 rows × 30 columns</p>\n",
       "</div>"
      ],
      "text/plain": [
       "                X          Y  OBJECTID SERVICECODE  \\\n",
       "365000 -76.960720  38.884641    722246       S0000   \n",
       "365001 -76.999537  38.830089    722247       S0000   \n",
       "365002 -77.009367  38.831333    722248       S0000   \n",
       "365003 -77.027120  38.971481    722561       GRAFF   \n",
       "365004 -77.004162  38.905885    722562       S0216   \n",
       "\n",
       "                                   SERVICECODEDESCRIPTION  \\\n",
       "365000             Abandoned Vehicle - On Public Property   \n",
       "365001             Abandoned Vehicle - On Public Property   \n",
       "365002             Abandoned Vehicle - On Public Property   \n",
       "365003                                   Graffiti Removal   \n",
       "365004  Public Space Litter Can- Installation/Removal/...   \n",
       "\n",
       "                               SERVICETYPECODEDESCRIPTION ORGANIZATIONACRONYM  \\\n",
       "365000  PEMA- Parking Enforcement Management Administr...                 DPW   \n",
       "365001  PEMA- Parking Enforcement Management Administr...                 DPW   \n",
       "365002  PEMA- Parking Enforcement Management Administr...                 DPW   \n",
       "365003          SWMA- Solid Waste Management Admistration                 DPW   \n",
       "365004          SWMA- Solid Waste Management Admistration                 DPW   \n",
       "\n",
       "        SERVICECALLCOUNT                 ADDDATE          RESOLUTIONDATE  ...  \\\n",
       "365000                 1  2019/10/07 10:31:32+00  2020/02/11 10:00:37+00  ...   \n",
       "365001                 1  2019/12/05 14:19:02+00  2020/02/22 08:02:54+00  ...   \n",
       "365002                 1  2019/10/02 11:15:10+00  2020/02/22 15:37:55+00  ...   \n",
       "365003                 1  2019/11/05 09:19:04+00  2020/02/28 13:32:05+00  ...   \n",
       "365004                 1  2019/08/08 11:01:11+00  2020/07/09 12:58:55+00  ...   \n",
       "\n",
       "               XCOORD         YCOORD   LATITUDE  LONGITUDE        CITY STATE  \\\n",
       "365000  403408.220000  135200.170000  38.884633 -76.960718  WASHINGTON    DC   \n",
       "365001  400040.437598  129143.771737  38.830081 -76.999534  WASHINGTON    DC   \n",
       "365002  399186.870000  129281.970000  38.831326 -77.009365  WASHINGTON    DC   \n",
       "365003  397650.059996  144839.787022  38.971473 -77.027118  WASHINGTON    DC   \n",
       "365004  399639.210000  137557.690000  38.905877 -77.004160  WASHINGTON    DC   \n",
       "\n",
       "        ZIPCODE MARADDRESSREPOSITORYID WARD DETAILS  \n",
       "365000  20019.0                38362.0  7.0     NaN  \n",
       "365001  20032.0               801497.0  8.0     NaN  \n",
       "365002  20032.0               302935.0  8.0     NaN  \n",
       "365003  20012.0               900304.0  4.0     NaN  \n",
       "365004  20002.0               303699.0  6.0     NaN  \n",
       "\n",
       "[5 rows x 30 columns]"
      ]
     },
     "execution_count": 194,
     "metadata": {},
     "output_type": "execute_result"
    }
   ],
   "source": [
    "# display last 5 rows\n",
    "data_set.tail(5)"
   ]
  },
  {
   "cell_type": "code",
   "execution_count": 195,
   "metadata": {},
   "outputs": [
    {
     "name": "stdout",
     "output_type": "stream",
     "text": [
      "['X', 'Y', 'OBJECTID', 'SERVICECODE', 'SERVICECODEDESCRIPTION', 'SERVICETYPECODEDESCRIPTION', 'ORGANIZATIONACRONYM', 'SERVICECALLCOUNT', 'ADDDATE', 'RESOLUTIONDATE', 'SERVICEDUEDATE', 'SERVICEORDERDATE', 'INSPECTIONFLAG', 'INSPECTIONDATE', 'INSPECTORNAME', 'SERVICEORDERSTATUS', 'STATUS_CODE', 'SERVICEREQUESTID', 'PRIORITY', 'STREETADDRESS', 'XCOORD', 'YCOORD', 'LATITUDE', 'LONGITUDE', 'CITY', 'STATE', 'ZIPCODE', 'MARADDRESSREPOSITORYID', 'WARD', 'DETAILS']\n"
     ]
    }
   ],
   "source": [
    "# list columns in the data set\n",
    "print(data_set.columns.tolist())"
   ]
  },
  {
   "cell_type": "code",
   "execution_count": 196,
   "metadata": {},
   "outputs": [
    {
     "name": "stdout",
     "output_type": "stream",
     "text": [
      "<class 'pandas.core.frame.DataFrame'>\n",
      "RangeIndex: 365005 entries, 0 to 365004\n",
      "Data columns (total 30 columns):\n",
      " #   Column                      Non-Null Count   Dtype  \n",
      "---  ------                      --------------   -----  \n",
      " 0   X                           365005 non-null  float64\n",
      " 1   Y                           365005 non-null  float64\n",
      " 2   OBJECTID                    365005 non-null  int64  \n",
      " 3   SERVICECODE                 365005 non-null  object \n",
      " 4   SERVICECODEDESCRIPTION      365005 non-null  object \n",
      " 5   SERVICETYPECODEDESCRIPTION  364649 non-null  object \n",
      " 6   ORGANIZATIONACRONYM         364802 non-null  object \n",
      " 7   SERVICECALLCOUNT            365005 non-null  int64  \n",
      " 8   ADDDATE                     365005 non-null  object \n",
      " 9   RESOLUTIONDATE              365005 non-null  object \n",
      " 10  SERVICEDUEDATE              365005 non-null  object \n",
      " 11  SERVICEORDERDATE            365005 non-null  object \n",
      " 12  INSPECTIONFLAG              310521 non-null  object \n",
      " 13  INSPECTIONDATE              365005 non-null  object \n",
      " 14  INSPECTORNAME               1 non-null       object \n",
      " 15  SERVICEORDERSTATUS          364970 non-null  object \n",
      " 16  STATUS_CODE                 150350 non-null  object \n",
      " 17  SERVICEREQUESTID            365005 non-null  object \n",
      " 18  PRIORITY                    364901 non-null  object \n",
      " 19  STREETADDRESS               354322 non-null  object \n",
      " 20  XCOORD                      365005 non-null  float64\n",
      " 21  YCOORD                      365005 non-null  float64\n",
      " 22  LATITUDE                    365005 non-null  float64\n",
      " 23  LONGITUDE                   365005 non-null  float64\n",
      " 24  CITY                        354328 non-null  object \n",
      " 25  STATE                       354328 non-null  object \n",
      " 26  ZIPCODE                     364995 non-null  float64\n",
      " 27  MARADDRESSREPOSITORYID      355811 non-null  float64\n",
      " 28  WARD                        362219 non-null  float64\n",
      " 29  DETAILS                     114001 non-null  object \n",
      "dtypes: float64(9), int64(2), object(19)\n",
      "memory usage: 83.5+ MB\n"
     ]
    }
   ],
   "source": [
    "# list columns and data types\n",
    "data_set.info()"
   ]
  },
  {
   "cell_type": "markdown",
   "metadata": {},
   "source": [
    "## Data Cleaning\n",
    "\n",
    "Based upon `data_set.info()` there are a few suggested actions:\n",
    "- Remove `INSPECTORNAME` column - it has one entry\n",
    "- Ward is a numerical value, but does not need to be a float - convert to integer\n",
    "- Zip Code is similar, numeric but integer not float\n",
    "- Date fields - ADDDATE, RESOLUTIONDATE', SERVICEDUEDATE, SERVICEORDERDATE, INSPECTIONDATE - will need to be converted to a date format for calculations\n",
    "- Fill nulls on fields, specifically `ORGANIZATIONACRONYM`"
   ]
  },
  {
   "cell_type": "code",
   "execution_count": 197,
   "metadata": {},
   "outputs": [
    {
     "data": {
      "text/plain": [
       "Index(['X', 'Y', 'OBJECTID', 'SERVICECODE', 'SERVICECODEDESCRIPTION',\n",
       "       'SERVICETYPECODEDESCRIPTION', 'ORGANIZATIONACRONYM', 'SERVICECALLCOUNT',\n",
       "       'ADDDATE', 'RESOLUTIONDATE', 'SERVICEDUEDATE', 'SERVICEORDERDATE',\n",
       "       'INSPECTIONFLAG', 'INSPECTIONDATE', 'SERVICEORDERSTATUS', 'STATUS_CODE',\n",
       "       'SERVICEREQUESTID', 'PRIORITY', 'STREETADDRESS', 'XCOORD', 'YCOORD',\n",
       "       'LATITUDE', 'LONGITUDE', 'CITY', 'STATE', 'ZIPCODE',\n",
       "       'MARADDRESSREPOSITORYID', 'WARD', 'DETAILS'],\n",
       "      dtype='object')"
      ]
     },
     "execution_count": 197,
     "metadata": {},
     "output_type": "execute_result"
    }
   ],
   "source": [
    "# remove INSPECTORNAME column\n",
    "data_set.columns.drop(['INSPECTORNAME'])"
   ]
  },
  {
   "cell_type": "code",
   "execution_count": 198,
   "metadata": {},
   "outputs": [],
   "source": [
    "# WARD\n",
    "# convert floats to integers\n",
    "data_set['WARD'].fillna(0, inplace=True)\n",
    "data_set['WARD'] = data_set['WARD'].astype(int)"
   ]
  },
  {
   "cell_type": "code",
   "execution_count": 199,
   "metadata": {},
   "outputs": [],
   "source": [
    "# ZIPCODE\n",
    "# convert floats to integers\n",
    "data_set.ZIPCODE.fillna(0, inplace=True)\n",
    "data_set.ZIPCODE = data_set.ZIPCODE.astype(int)"
   ]
  },
  {
   "cell_type": "code",
   "execution_count": 200,
   "metadata": {},
   "outputs": [],
   "source": [
    "# Convert date values to datetime\n",
    "data_set['ADDDATE'] = data_set['ADDDATE'].astype('datetime64')\n",
    "data_set['RESOLUTIONDATE'] = data_set['RESOLUTIONDATE'].astype('datetime64')\n",
    "data_set['SERVICEDUEDATE'] = data_set['SERVICEDUEDATE'].astype('datetime64')\n",
    "data_set['SERVICEORDERDATE'] = data_set['SERVICEORDERDATE'].astype('datetime64')\n",
    "data_set['INSPECTIONDATE'] = data_set['INSPECTIONDATE'].astype('datetime64')"
   ]
  },
  {
   "cell_type": "code",
   "execution_count": 201,
   "metadata": {},
   "outputs": [],
   "source": [
    "# fill the org name with 'N/A' for blanks\n",
    "data_set['ORGANIZATIONACRONYM'].fillna('N/A', inplace=True)"
   ]
  },
  {
   "cell_type": "markdown",
   "metadata": {},
   "source": [
    "#### Cleaning and Determining Status\n",
    "\n",
    "Request records have two status fields - `SERVICEORDERSTATUS` and `STATUS_CODE`.  The values are similar, but not identical and additionally are not present is every cell.\n",
    "\n",
    "In order to ensure the correct set of service requests the data set must have a standardized status value."
   ]
  },
  {
   "cell_type": "code",
   "execution_count": 202,
   "metadata": {},
   "outputs": [
    {
     "data": {
      "text/plain": [
       "array(['Closed', 'CLOSED', 'IN-PROGRESS', 'OPEN', 'DUPLICATE (CLOSED)',\n",
       "       'DUPLICATE (OPENED)', 'In-Progress', 'VOIDED', 'Open',\n",
       "       'CLOSED - INCOMPLETE INFORMATION',\n",
       "       'Closed - Incomplete Information', 'In Progress',\n",
       "       'Duplicate (Closed)', 'Closed (Transferred)', 'Voided', nan,\n",
       "       'Dispute (Closed)', 'Closed (Duplicate)', 'New',\n",
       "       'Voided (Duplicate)', 'Open (Duplicate)',\n",
       "       'Duplicate (Closed) (Duplicate)',\n",
       "       'Closed - Incomplete Information (Duplica', 'Duplicate (Opened)',\n",
       "       'In-Progress (Duplicate)'], dtype=object)"
      ]
     },
     "execution_count": 202,
     "metadata": {},
     "output_type": "execute_result"
    }
   ],
   "source": [
    "# get unique values for SERVICEORDERSTATUS\n",
    "data_set['SERVICEORDERSTATUS'].unique()"
   ]
  },
  {
   "cell_type": "code",
   "execution_count": 203,
   "metadata": {},
   "outputs": [
    {
     "data": {
      "text/plain": [
       "0         False\n",
       "1         False\n",
       "2         False\n",
       "3         False\n",
       "4         False\n",
       "          ...  \n",
       "365000    False\n",
       "365001    False\n",
       "365002    False\n",
       "365003    False\n",
       "365004    False\n",
       "Name: SERVICEORDERSTATUS, Length: 365005, dtype: bool"
      ]
     },
     "execution_count": 203,
     "metadata": {},
     "output_type": "execute_result"
    }
   ],
   "source": [
    "# display empty SERVICEORDERSTATUS cells\n",
    "data_set['SERVICEORDERSTATUS'].isna()"
   ]
  },
  {
   "cell_type": "code",
   "execution_count": 204,
   "metadata": {},
   "outputs": [
    {
     "data": {
      "text/plain": [
       "Closed                                      200037\n",
       "CLOSED                                      143463\n",
       "In-Progress                                   8374\n",
       "IN-PROGRESS                                   5063\n",
       "Closed (Duplicate)                            3552\n",
       "Open                                          1717\n",
       "DUPLICATE (CLOSED)                             695\n",
       "DUPLICATE (OPENED)                             635\n",
       "Voided                                         313\n",
       "OPEN                                           297\n",
       "Duplicate (Closed)                             257\n",
       "Closed (Transferred)                           114\n",
       "Open (Duplicate)                               107\n",
       "CLOSED - INCOMPLETE INFORMATION                 84\n",
       "Closed - Incomplete Information                 80\n",
       "VOIDED                                          78\n",
       "In-Progress (Duplicate)                         31\n",
       "Voided (Duplicate)                              27\n",
       "New                                             24\n",
       "Duplicate (Closed) (Duplicate)                  11\n",
       "Closed - Incomplete Information (Duplica         5\n",
       "Dispute (Closed)                                 3\n",
       "Duplicate (Opened)                               2\n",
       "In Progress                                      1\n",
       "Name: SERVICEORDERSTATUS, dtype: int64"
      ]
     },
     "execution_count": 204,
     "metadata": {},
     "output_type": "execute_result"
    }
   ],
   "source": [
    "#determine the distrubtion of status values\n",
    "data_set['SERVICEORDERSTATUS'].value_counts()"
   ]
  },
  {
   "cell_type": "markdown",
   "metadata": {},
   "source": [
    "There are some inconsisent values that may need cleaning.  Some values are all caps, others are not.  This should be standardized.  Additionally there are duplicate, in-progress voided and transferred records.  These should be removed from the data set along with any values that aren't CLOSED or OPEN."
   ]
  },
  {
   "cell_type": "code",
   "execution_count": 205,
   "metadata": {},
   "outputs": [
    {
     "data": {
      "text/plain": [
       "array([nan, 'CLOSED', 'OPEN'], dtype=object)"
      ]
     },
     "execution_count": 205,
     "metadata": {},
     "output_type": "execute_result"
    }
   ],
   "source": [
    "# get unique values for STATUS_CODE\n",
    "data_set['STATUS_CODE'].unique()"
   ]
  },
  {
   "cell_type": "code",
   "execution_count": 206,
   "metadata": {},
   "outputs": [
    {
     "data": {
      "text/plain": [
       "CLOSED    144353\n",
       "OPEN        5997\n",
       "Name: STATUS_CODE, dtype: int64"
      ]
     },
     "execution_count": 206,
     "metadata": {},
     "output_type": "execute_result"
    }
   ],
   "source": [
    "# view distribution of STATUS_CODE\n",
    "data_set['STATUS_CODE'].value_counts()"
   ]
  },
  {
   "cell_type": "markdown",
   "metadata": {},
   "source": [
    "The STATUS_CODE field has fewer states, just closed, open and null - and lots of nulls overall.  Based on that it appears that SERVICEORDERSTATUS is the more reliable indicator of status.  The next step is to remove duplicate, in-progress voided and transferred records and create a new status field with a definitive open or closed value."
   ]
  },
  {
   "cell_type": "code",
   "execution_count": 207,
   "metadata": {},
   "outputs": [
    {
     "name": "stdout",
     "output_type": "stream",
     "text": [
      "CLOSED                                      343500\n",
      "IN-PROGRESS                                  13437\n",
      "CLOSED (DUPLICATE)                            3552\n",
      "OPEN                                          2014\n",
      "DUPLICATE (CLOSED)                             952\n",
      "DUPLICATE (OPENED)                             637\n",
      "VOIDED                                         391\n",
      "CLOSED - INCOMPLETE INFORMATION                164\n",
      "CLOSED (TRANSFERRED)                           114\n",
      "OPEN (DUPLICATE)                               107\n",
      "IN-PROGRESS (DUPLICATE)                         31\n",
      "VOIDED (DUPLICATE)                              27\n",
      "NEW                                             24\n",
      "DUPLICATE (CLOSED) (DUPLICATE)                  11\n",
      "CLOSED - INCOMPLETE INFORMATION (DUPLICA         5\n",
      "DISPUTE (CLOSED)                                 3\n",
      "IN PROGRESS                                      1\n",
      "Name: STATUS, dtype: int64\n"
     ]
    }
   ],
   "source": [
    "# create new status column from SERVICEORDERSTATUS\n",
    "# cast string to uppercase\n",
    "data_set['STATUS'] = data_set['SERVICEORDERSTATUS'].str.upper()\n",
    "\n",
    "# view the distrubtion of status values\n",
    "print(data_set['STATUS'].value_counts())\n",
    "\n",
    "# remove 'NEW' status\n",
    "data_set = data_set[data_set.STATUS.str.startswith('NEW') == False]\n",
    "\n",
    "# remove in-progress requests\n",
    "data_set = data_set[data_set.STATUS.str.startswith('IN-PROGRESS') == False]\n",
    "data_set = data_set[data_set.STATUS.str.startswith('IN PROGRESS') == False]\n",
    "\n",
    "# remove voided requests\n",
    "data_set = data_set[data_set.STATUS.str.startswith('VOIDED') == False]\n",
    "\n",
    "# remove duplicate requests\n",
    "data_set = data_set[data_set.STATUS.str.contains('DUPLICA') == False]\n",
    "\n",
    "# remove duplicate requests\n",
    "data_set = data_set[data_set.STATUS.str.contains('TRANSFERRED') == False]\n",
    "\n",
    "# remove disputed requests\n",
    "data_set = data_set[data_set.STATUS.str.contains('DISPUTE') == False]\n",
    "\n",
    "# remove incomplete info requests\n",
    "data_set = data_set[data_set.STATUS.str.contains('INCOMPLETE INFORMATION') == False]\n"
   ]
  },
  {
   "cell_type": "code",
   "execution_count": 208,
   "metadata": {},
   "outputs": [
    {
     "name": "stdout",
     "output_type": "stream",
     "text": [
      "CLOSED    343500\n",
      "OPEN        2014\n",
      "Name: STATUS, dtype: int64\n"
     ]
    }
   ],
   "source": [
    "# view updated distrubtion of status values\n",
    "print(data_set['STATUS'].value_counts())"
   ]
  },
  {
   "cell_type": "markdown",
   "metadata": {},
   "source": [
    "## Analysis"
   ]
  },
  {
   "cell_type": "code",
   "execution_count": 209,
   "metadata": {},
   "outputs": [
    {
     "data": {
      "text/plain": [
       "6    58853\n",
       "2    53724\n",
       "5    46616\n",
       "4    42809\n",
       "7    40001\n",
       "1    37371\n",
       "8    33112\n",
       "3    30615\n",
       "0     2413\n",
       "Name: WARD, dtype: int64"
      ]
     },
     "execution_count": 209,
     "metadata": {},
     "output_type": "execute_result"
    }
   ],
   "source": [
    "# get the number of requests, grouped by ward\n",
    "data_set['WARD'].value_counts()"
   ]
  },
  {
   "cell_type": "code",
   "execution_count": 210,
   "metadata": {},
   "outputs": [
    {
     "data": {
      "text/plain": [
       "<matplotlib.axes._subplots.AxesSubplot at 0x7fd00ab27b80>"
      ]
     },
     "execution_count": 210,
     "metadata": {},
     "output_type": "execute_result"
    },
    {
     "data": {
      "image/png": "[encoded data removed]",
      "text/plain": [
       "<Figure size 432x288 with 1 Axes>"
      ]
     },
     "metadata": {
      "needs_background": "light"
     },
     "output_type": "display_data"
    }
   ],
   "source": [
    "# plot a histogram of service requests by ward\n",
    "data_set.WARD.plot(kind = 'hist')"
   ]
  },
  {
   "cell_type": "code",
   "execution_count": 211,
   "metadata": {},
   "outputs": [
    {
     "data": {
      "text/plain": [
       "0         -19 days +05:15:06\n",
       "1          -4 days +21:56:50\n",
       "2          -2 days +18:35:37\n",
       "3          -1 days +19:19:34\n",
       "4         -33 days +13:52:39\n",
       "                 ...        \n",
       "364983     -4 days +19:23:24\n",
       "364984    -17 days +08:55:55\n",
       "364985     -2 days +10:21:25\n",
       "364998   -120 days +01:05:10\n",
       "365003   -116 days +19:46:59\n",
       "Length: 345514, dtype: timedelta64[ns]"
      ]
     },
     "execution_count": 211,
     "metadata": {},
     "output_type": "execute_result"
    }
   ],
   "source": [
    "data_set['ADDDATE'] - data_set['RESOLUTIONDATE']"
   ]
  },
  {
   "cell_type": "code",
   "execution_count": 212,
   "metadata": {},
   "outputs": [],
   "source": [
    "# calculate if resolution was before due date and store in a new column\n",
    "data_set['RESOLVED_ON_TIME'] = data_set['RESOLUTIONDATE'] < data_set['SERVICEDUEDATE']"
   ]
  },
  {
   "cell_type": "code",
   "execution_count": 213,
   "metadata": {},
   "outputs": [
    {
     "data": {
      "text/plain": [
       "0.8365623390079707"
      ]
     },
     "execution_count": 213,
     "metadata": {},
     "output_type": "execute_result"
    }
   ],
   "source": [
    "# calculate the percentage of requests resolved on time\n",
    "data_set[data_set['RESOLVED_ON_TIME'] == True].count()['RESOLVED_ON_TIME'] / data_set.count()['RESOLVED_ON_TIME']"
   ]
  },
  {
   "cell_type": "code",
   "execution_count": 214,
   "metadata": {},
   "outputs": [
    {
     "data": {
      "text/plain": [
       "0.16343766099202928"
      ]
     },
     "execution_count": 214,
     "metadata": {},
     "output_type": "execute_result"
    }
   ],
   "source": [
    "# calculate the percentage of requests not resolved on time\n",
    "data_set[data_set['RESOLVED_ON_TIME'] == False].count()['RESOLVED_ON_TIME']  / data_set.count()['RESOLVED_ON_TIME']"
   ]
  },
  {
   "cell_type": "code",
   "execution_count": 215,
   "metadata": {},
   "outputs": [
    {
     "data": {
      "text/plain": [
       "<matplotlib.axes._subplots.AxesSubplot at 0x7fd04e34b730>"
      ]
     },
     "execution_count": 215,
     "metadata": {},
     "output_type": "execute_result"
    },
    {
     "data": {
      "image/png": "[encoded data removed]",
      "text/plain": [
       "<Figure size 432x288 with 1 Axes>"
      ]
     },
     "metadata": {},
     "output_type": "display_data"
    }
   ],
   "source": [
    "# plot a pie chart of service requests by organization\n",
    "data_set.RESOLVED_ON_TIME.value_counts().plot(kind = 'pie')"
   ]
  },
  {
   "cell_type": "code",
   "execution_count": 216,
   "metadata": {},
   "outputs": [
    {
     "data": {
      "text/plain": [
       "DPW     228895\n",
       "DDOT     88581\n",
       "DOH       6936\n",
       "OUC       6842\n",
       "DMV       6755\n",
       "DCRA      4786\n",
       "FEMS      1252\n",
       "DOEE       726\n",
       "ORM        482\n",
       "N/A        141\n",
       "DGS        108\n",
       "DFHV         8\n",
       "DDS          2\n",
       "Name: ORGANIZATIONACRONYM, dtype: int64"
      ]
     },
     "execution_count": 216,
     "metadata": {},
     "output_type": "execute_result"
    }
   ],
   "source": [
    "# display requests by organiation\n",
    "data_set['ORGANIZATIONACRONYM'].value_counts()"
   ]
  },
  {
   "cell_type": "code",
   "execution_count": 217,
   "metadata": {},
   "outputs": [
    {
     "data": {
      "text/plain": [
       "<matplotlib.axes._subplots.AxesSubplot at 0x7fd07dc678e0>"
      ]
     },
     "execution_count": 217,
     "metadata": {},
     "output_type": "execute_result"
    },
    {
     "data": {
      "image/png": "[encoded data removed]",
      "text/plain": [
       "<Figure size 432x288 with 1 Axes>"
      ]
     },
     "metadata": {},
     "output_type": "display_data"
    }
   ],
   "source": [
    "# plot a pie chart of service requests by organization\n",
    "data_set.ORGANIZATIONACRONYM.value_counts().plot(kind = 'pie')"
   ]
  },
  {
   "cell_type": "code",
   "execution_count": null,
   "metadata": {},
   "outputs": [],
   "source": []
  }
 ],
 "metadata": {
  "kernelspec": {
   "display_name": "Python 3",
   "language": "python",
   "name": "python3"
  },
  "language_info": {
   "codemirror_mode": {
    "name": "ipython",
    "version": 3
   },
   "file_extension": ".py",
   "mimetype": "text/x-python",
   "name": "python",
   "nbconvert_exporter": "python",
   "pygments_lexer": "ipython3",
   "version": "3.8.3"
  }
 },
 "nbformat": 4,
 "nbformat_minor": 1
}
